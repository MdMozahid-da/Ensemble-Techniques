{
  "nbformat": 4,
  "nbformat_minor": 0,
  "metadata": {
    "colab": {
      "provenance": []
    },
    "kernelspec": {
      "name": "python3",
      "display_name": "Python 3"
    },
    "language_info": {
      "name": "python"
    }
  },
  "cells": [
    {
      "cell_type": "markdown",
      "source": [
        "#Ensemble Techniques"
      ],
      "metadata": {
        "id": "q3nfgi8bIW5u"
      }
    },
    {
      "cell_type": "markdown",
      "source": [
        "1. Can we use Bagging for regression problems?\n",
        " - Yes, Bagging can be effectively used for regression tasks. The Bagging Regressor, a common example, applies bootstrap aggregation to regression models like Decision Trees. This helps reduce variance and improves stability, particularly in datasets with noisy features. The key idea is that multiple models are trained independently on different subsets of the dataset, and their predictions are averaged to produce a final output. By averaging across multiple models, Bagging ensures better generalization compared to a single regressor. It is commonly used in financial predictions, climate modeling, and medical data analysis."
      ],
      "metadata": {
        "id": "pPyBPFJUIZS-"
      }
    },
    {
      "cell_type": "markdown",
      "source": [
        "2. What is the difference between multiple model training and single model training?\n",
        " - Single model training involves building and fine-tuning one algorithm on the data, relying solely on its ability to generalize. In contrast, multiple model training—often called ensemble learning—combines multiple models to improve performance.\n",
        "\n",
        "      - Single model training may suffer from overfitting (memorizing noise) or underfitting (missing patterns).\n",
        "\n",
        "      - Multiple model training reduces bias and variance by leveraging diverse models that complement each other. Common ensemble methods include Bagging (Random Forest), Boosting (XGBoost, AdaBoost), and Stacking (layering models for refined predictions). These approaches are widely used in machine learning competitions and real-world applications like fraud detection and medical diagnostics."
      ],
      "metadata": {
        "id": "l2HzkWjrJOlg"
      }
    },
    {
      "cell_type": "markdown",
      "source": [
        "3. Explain the concept of feature randomness in Random Forest.\n",
        " - Feature randomness in Random Forest is a technique used to introduce diversity among decision trees, improving robustness and accuracy. Instead of allowing each tree to consider all features, Random Forest selects a random subset of features at each split. This prevents trees from relying too heavily on dominant features and ensures a more balanced decision-making process.\n",
        "\n",
        "    - Advantages: Helps reduce overfitting, as trees don’t all learn from the same dominant features.\n",
        "\n",
        "    - Applications: Used in predictive modeling tasks like stock price forecasting, image classification, and customer segmentation. Overall, feature randomness ensures that models learn from different perspectives, enhancing their predictive power."
      ],
      "metadata": {
        "id": "aPQdmZjLJbXB"
      }
    },
    {
      "cell_type": "markdown",
      "source": [
        "4. What is OOB (Out-of-Bag) Score?\n",
        " - OOB Score is a validation method for Random Forest, allowing accuracy measurement without requiring cross-validation. Since each tree in the Random Forest is trained on a bootstrap sample, some data points are left out (out-of-bag samples). These excluded samples are used to evaluate the model’s performance without additional data splitting.\n",
        "\n",
        "     - Why is it useful? It provides an unbiased error estimate for Random Forest models.\n",
        "\n",
        "     - How is it calculated? Each out-of-bag sample is tested against the trees that did NOT use it for training, improving generalization estimation.\n",
        "\n",
        "     - Key Benefit: Saves computation time while still providing reliable accuracy estimates. OOB evaluation is widely used in financial modeling, medical diagnosis, and risk assessment applications."
      ],
      "metadata": {
        "id": "C3l8Np7JJigW"
      }
    },
    {
      "cell_type": "markdown",
      "source": [
        "5. How can you measure the importance of features in a Random Forest model?\n",
        " - Random Forest measures feature importance by assessing how much a feature contributes to the model’s predictions. There are two main methods:\n",
        "\n",
        "      - Gini Importance (Mean Decrease in Impurity): This method evaluates how much a feature helps in correctly splitting data across all trees. Features with higher Gini Importance contribute more to correct decisions.\n",
        "\n",
        "     - Permutation Importance: This method randomly shuffles feature values and measures the impact on model accuracy. If accuracy drops significantly, the feature is considered important. Feature importance is useful for selecting the most relevant features, simplifying models, and improving performance in tasks like medical diagnosis, finance predictions, and fraud detection."
      ],
      "metadata": {
        "id": "WfVOiE_zLM6e"
      }
    },
    {
      "cell_type": "markdown",
      "source": [
        "6. Explain the working principle of a Bagging Classifier.\n",
        " - A Bagging Classifier works by training multiple base models (often Decision Trees) independently on random bootstrap samples from the dataset. These models then make predictions, which are combined through majority voting for classification or averaging for regression.\n",
        "\n",
        "       - Each model in the ensemble is trained on a different subset of data, which helps reduce overfitting.\n",
        "\n",
        "       - Since the models operate independently, Bagging improves stability and ensures better generalization to unseen data.\n",
        "\n",
        "       - Bagging is commonly used in Random Forest, where multiple decision trees collectively make predictions for robust outcomes in applications like customer segmentation and risk analysis."
      ],
      "metadata": {
        "id": "1LFyC61sLUPj"
      }
    },
    {
      "cell_type": "markdown",
      "source": [
        "7. How do you evaluate a Bagging Classifier’s performance?\n",
        " - The performance of a Bagging Classifier is measured using standard classification metrics:\n",
        "\n",
        "     - Accuracy: Overall percentage of correct predictions.\n",
        "\n",
        "     - Precision: Measures how many predicted positive labels are actually correct.\n",
        "\n",
        "     - Recall: Measures the classifier’s ability to identify all actual positives.\n",
        "\n",
        "     - F1-score: A balanced metric combining precision and recall. Additionally, the Out-of-Bag (OOB) Score can be used to assess performance without needing cross-validation, making evaluations more efficient. The effectiveness of Bagging is proven in fields like healthcare diagnostics, fraud detection, and recommendation systems."
      ],
      "metadata": {
        "id": "51-fzfklUQ28"
      }
    },
    {
      "cell_type": "markdown",
      "source": [
        "8. How does a Bagging Regressor work?\n",
        " - A Bagging Regressor follows the same principles as a Bagging Classifier but is designed for continuous numerical predictions instead of classification. Here’s how it works:\n",
        "\n",
        "    - It trains multiple regressors (typically Decision Trees) on random subsets of data using bootstrap sampling.\n",
        "\n",
        "     - Each regressor makes independent predictions.\n",
        "\n",
        "     - The final prediction is made by averaging the outputs of all models, leading to a more stable and accurate result.\n",
        "\n",
        "    Why is it useful?\n",
        "    - Reduces variance: Unlike a single decision tree, Bagging prevents the model from fitting too closely to noisy data.\n",
        "\n",
        "    - Handles complex relationships: Works well in cases where single models struggle with high variance, such as financial forecasting, climate prediction, and medical diagnostics.\n",
        "\n",
        "    - Improves robustness: By averaging multiple predictions, Bagging ensures the output is less sensitive to extreme values and anomalies.\n",
        "\n",
        "    - Bagging Regressors are widely used in real estate price predictions, stock market analysis, and demand forecasting, where stability is crucial."
      ],
      "metadata": {
        "id": "qN4WSbviUZCr"
      }
    },
    {
      "cell_type": "markdown",
      "source": [
        "9. What is the main advantage of ensemble techniques?\n",
        " - Ensemble techniques increase accuracy, stability, and robustness by leveraging multiple models. Their key benefits include:\n",
        "\n",
        "    - Improved accuracy: Combining multiple models reduces errors, leading to better predictions.\n",
        "\n",
        "     - Reduced overfitting: Ensemble methods generalize better on unseen data by reducing reliance on any single model.\n",
        "\n",
        "     - Handles complex datasets: Works well in high-dimensional and imbalanced data scenarios.\n",
        "\n",
        "     - Better decision-making: Different models capture various aspects of the data, leading to more reliable predictions.\n",
        "\n",
        "    - Flexibility across domains: Applied in fraud detection, healthcare analytics, image recognition, and natural language processing.\n",
        "\n",
        "    - For example, Random Forest (Bagging-based) and XGBoost (Boosting-based) outperform single classifiers in credit scoring, ensuring fair risk assessments."
      ],
      "metadata": {
        "id": "bD2rbRoXUhAs"
      }
    },
    {
      "cell_type": "markdown",
      "source": [
        "10. What is the main challenge of ensemble methods?\n",
        " - Despite their advantages, ensemble methods pose several challenges:\n",
        "\n",
        "      - Computational Complexity: Training multiple models requires more memory and processing power than a single algorithm.\n",
        "\n",
        "      - Difficulty in Interpretation: Unlike simpler models (e.g., linear regression), ensemble models lack transparency, making it harder to explain predictions.\n",
        "\n",
        "      - Risk of Overfitting: Boosting techniques, such as AdaBoost, continuously adjust based on errors, which can lead to overfitting if not tuned carefully.\n",
        "\n",
        "      - Time-Consuming Hyperparameter Tuning: Methods like Random Forest, XGBoost, and Stacking require careful tuning to maximize efficiency. However, techniques like feature importance analysis and simplified visualization methods can help mitigate these concerns."
      ],
      "metadata": {
        "id": "L6mHoIkFUlD_"
      }
    },
    {
      "cell_type": "markdown",
      "source": [
        "11. Explain the key idea behind ensemble techniques.\n",
        " - The fundamental idea of ensemble techniques is leveraging multiple models to improve predictive accuracy by:\n",
        "\n",
        "     - Combining diverse models: Different models learn various data patterns, making the overall prediction stronger.\n",
        "\n",
        "     - Reducing errors: Averaging multiple predictions minimizes bias and variance, leading to stable predictions.\n",
        "\n",
        "     - Correcting mistakes: Boosting techniques, such as Gradient Boosting, learn from previous errors and adjust the model accordingly.\n",
        "\n",
        "     - Enhancing generalization: Helps models perform better on unseen test data, reducing sensitivity to outliers.\n",
        "\n",
        "     For example, self-driving car technology relies on ensemble methods combining object detection models, depth estimation algorithms, and reinforcement learning systems to make accurate driving decisions."
      ],
      "metadata": {
        "id": "TATPtL8JU5sm"
      }
    },
    {
      "cell_type": "markdown",
      "source": [
        "12. What is a Random Forest Classifier?\n",
        " - A Random Forest Classifier is an ensemble learning model that builds multiple decision trees and combines their predictions through majority voting (classification) or averaging (regression).\n",
        "\n",
        "   How it works:\n",
        "\n",
        "        Bootstrap Sampling: Each tree is trained on a random subset of data.\n",
        "\n",
        "        Feature Randomness: At every split, a random subset of features is selected, promoting diversity.\n",
        "\n",
        "        Aggregation: Predictions from all trees are combined to make a final decision.\n",
        "\n",
        "    Advantages:\n",
        "\n",
        "        Lower variance: Unlike single decision trees, Random Forest generalizes better.\n",
        "\n",
        "       Prevents overfitting: Multiple trees ensure more balanced predictions.\n",
        "\n",
        "        High accuracy: Works well on complex datasets.\n",
        "\n",
        "Applications:\n",
        "\n",
        "Used in fraud detection, customer segmentation, medical diagnosis, and recommendation systems, where reliable classifications are necessary."
      ],
      "metadata": {
        "id": "biXBhHJOU8gT"
      }
    },
    {
      "cell_type": "markdown",
      "source": [
        "13. What are the main types of ensemble techniques?\n",
        " - Ensemble learning consists of three key techniques:\n",
        "\n",
        "     - Bagging (Bootstrap Aggregating)\n",
        "\n",
        "            Trains multiple models independently on different subsets of data.\n",
        "\n",
        "            Reduces variance, preventing overfitting.\n",
        "\n",
        "            Example: Random Forest, which averages multiple decision trees.\n",
        "\n",
        "     - Boosting\n",
        "\n",
        "            Trains models sequentially, correcting errors from previous models.\n",
        "\n",
        "            Reduces bias by improving weak learners step by step.\n",
        "\n",
        "            Example: AdaBoost, XGBoost, which enhance accuracy by focusing on misclassified samples.\n",
        "\n",
        "     - Stacking\n",
        "\n",
        "            Combines multiple models of different types and trains a final meta-model for optimized decision-making.\n",
        "\n",
        "            Example: Stacked Generalization, where base models feed their outputs into a neural network or logistic regression for improved accuracy.\n",
        "\n",
        "     Each method is widely used in fraud detection, recommendation systems, and medical imaging to enhance predictive reliability."
      ],
      "metadata": {
        "id": "mSFSXIbSVWqq"
      }
    },
    {
      "cell_type": "markdown",
      "source": [
        "14. What is ensemble learning in machine learning?\n",
        " - Ensemble learning is a powerful approach that combines multiple models to improve prediction accuracy, reduce errors, and enhance generalization.\n",
        "\n",
        "     Why is it useful?\n",
        "\n",
        "       - A single model may suffer from high bias (too simple) or high variance (overfits).\n",
        "\n",
        "       - Ensemble methods balance bias and variance by using multiple models collaboratively.\n",
        "\n",
        "       - The resulting predictions are more reliable and robust than any standalone algorithm.\n",
        "\n",
        "     Common applications:\n",
        "        - Spam filtering: Uses multiple classifiers to correctly flag spam emails.\n",
        "\n",
        "        - Stock market prediction: Employs Random Forest and Boosting to analyze trends.\n",
        "\n",
        "        - Medical diagnosis: Uses ensemble models to assess symptoms and improve disease classification.\n",
        "\n",
        "     By combining weak predictors into a strong model, ensemble learning has become essential in AI-driven decision-making across industries."
      ],
      "metadata": {
        "id": "wX19Nwp9VaiH"
      }
    },
    {
      "cell_type": "markdown",
      "source": [
        "15. When should we avoid using ensemble methods?\n",
        " - While ensemble learning is powerful, it is not always the best choice. Avoid using it when:\n",
        "\n",
        "     - Dataset is small: With limited data, simpler models can generalize well without needing multiple learners.\n",
        "\n",
        "     - Computational resources are limited: Training multiple models requires high memory and processing power, which can be impractical.\n",
        "\n",
        "     - Interpretability is needed: If decision-making transparency is crucial (e.g., in medicine or law), simpler models like logistic regression may be preferred.\n",
        "\n",
        "     - Problem complexity is low: If a problem can be solved using a single well-tuned model, ensemble methods might be unnecessary.\n",
        "\n",
        "     Despite these limitations, ensemble techniques remain indispensable in high-stakes fields like cybersecurity, financial risk assessment, and deep learning applications."
      ],
      "metadata": {
        "id": "HEoNiCHdVd0G"
      }
    },
    {
      "cell_type": "markdown",
      "source": [
        "16. How does Bagging help in reducing overfitting?\n",
        " - Bagging reduces overfitting by training multiple models on different subsets of data, ensuring they don’t memorize specific patterns. Here’s how:\n",
        "\n",
        "      - Bootstrap Sampling: Each model is trained on random subsets instead of the entire dataset, preventing over-dependence on any one feature.\n",
        "\n",
        "      - Variance Reduction: Since models work independently, their predictions are averaged, eliminating extreme fluctuations.\n",
        "\n",
        "     - Prevents Model Memorization: Decision Trees tend to overfit, but Bagging (e.g., Random Forest) smooths out noisy variations by blending multiple trees’ predictions.\n",
        "\n",
        "     Example:\n",
        "\n",
        "     Imagine predicting house prices:\n",
        "\n",
        "      - A single tree might base decisions on one dominant feature (e.g., square footage), ignoring other factors.\n",
        "\n",
        "      - Bagging ensures different trees focus on different attributes (e.g., location, number of bedrooms), leading to balanced and unbiased predictions."
      ],
      "metadata": {
        "id": "HSMVImzXVho_"
      }
    },
    {
      "cell_type": "markdown",
      "source": [
        "17. Why is Random Forest better than a single Decision Tree?\n",
        " - A single Decision Tree works by making hierarchical decisions based on features, but it has weaknesses like overfitting and high variance when trained on complex datasets. In contrast, Random Forest improves upon this by:\n",
        "\n",
        "     - Reducing Variance: Random Forest builds multiple trees trained on random subsets of data, averaging their predictions for stability.\n",
        "\n",
        "     - Minimizing Overfitting: Decision Trees often memorize training data; Random Forest ensures diversity in tree structures, preventing excessive reliance on specific patterns.\n",
        "\n",
        "     - Improving Accuracy: A single tree may make inconsistent decisions, while multiple trees in Random Forest produce more reliable predictions.\n",
        "\n",
        "     - Handling Missing Values: Random Forest processes missing data better, making it robust for real-world applications.\n",
        "\n",
        "     - Feature Importance Analysis: Decision Trees alone do not provide strong insights into influential features, whereas Random Forest ranks important features, aiding interpretability."
      ],
      "metadata": {
        "id": "8j-DW_H_VlBV"
      }
    },
    {
      "cell_type": "markdown",
      "source": [
        "18. What is the role of bootstrap sampling in Bagging?\n",
        " - Bootstrap sampling is the foundation of Bagging (Bootstrap Aggregating), and it works as follows:\n",
        "\n",
        "     - Random Sampling with Replacement: Each base model is trained on a random subset of data, created by sampling with replacement (some samples may appear multiple times).\n",
        "\n",
        "     - Diversity in Learning: Since each model sees different versions of the dataset, Bagging ensures that individual models capture varied patterns, leading to a balanced final prediction.\n",
        "\n",
        "     - Reduces Model Overfitting: Training multiple models prevents them from memorizing noise and enhances generalization on unseen data.\n",
        "\n",
        "     Example:\n",
        "\n",
        "     Consider predicting loan approvals using customer data.\n",
        "\n",
        "     - A single decision tree might focus heavily on income level while ignoring other factors.\n",
        "\n",
        "     - By bootstrap sampling, Bagging ensures different models focus on attributes like credit score, employment history, and debt-to-income ratio, resulting in better decisions."
      ],
      "metadata": {
        "id": "sp7nDgYUVowr"
      }
    },
    {
      "cell_type": "markdown",
      "source": [
        "19. What are some real-world applications of ensemble techniques?\n",
        " - Ensemble methods are widely used due to their reliability and accuracy in complex decision-making tasks. Some key applications include:\n",
        "\n",
        "     - Spam Filtering (Email Security):\n",
        "\n",
        "         Algorithms like Naïve Bayes + Random Forest help classify emails as spam or legitimate by evaluating word frequency, metadata, and sender credibility.\n",
        "\n",
        "     - Fraud Detection (Banking & Cybersecurity):\n",
        "\n",
        "          Ensemble models combine anomaly detection techniques, tracking unusual transactions and securing banking operations from fraudsters.\n",
        "\n",
        "     - Medical Diagnosis (Disease Prediction):\n",
        "\n",
        "        Boosting algorithms (e.g., XGBoost, Gradient Boosting) analyze patient symptoms to detect diseases such as cancer or heart disorders, improving early diagnosis accuracy.\n",
        "\n",
        "     - Stock Market & Business Forecasting:\n",
        "\n",
        "       Ensemble models analyze multiple economic indicators, merging results from decision trees, regression models, and deep learning algorithms to predict stock prices accurately.\n",
        "\n",
        "     - Self-driving Cars (Computer Vision):\n",
        "\n",
        "       Autonomous vehicles use ensemble models combining object detection, depth estimation, and behavioral analysis to make real-time navigation decisions."
      ],
      "metadata": {
        "id": "ZpfINIrgVr64"
      }
    },
    {
      "cell_type": "markdown",
      "source": [
        "20. What is the difference between Bagging and Boosting?\n",
        " - Bagging and Boosting are two powerful ensemble learning techniques, but they work in fundamentally different ways.\n",
        "\n",
        "     - Bagging (Bootstrap Aggregating) reduces variance by training multiple models independently on different random subsets of the dataset. These models make predictions separately, and their results are averaged (for regression) or combined through majority voting (for classification). Bagging is useful for improving stability, especially when using high-variance models like Decision Trees. Random Forest is a well-known example of Bagging.\n",
        "\n",
        "     - Boosting, on the other hand, reduces bias by training models sequentially. Each model learns from the errors of the previous one, adjusting weights to give more importance to misclassified examples. This step-by-step refinement process makes Boosting excellent for increasing predictive accuracy. However, if not carefully tuned, Boosting can sometimes lead to overfitting. AdaBoost and XGBoost are popular examples of Boosting."
      ],
      "metadata": {
        "id": "EhEE4kE1VvOH"
      }
    },
    {
      "cell_type": "markdown",
      "source": [
        "#Practical"
      ],
      "metadata": {
        "id": "Q2-f7p9EkUyv"
      }
    },
    {
      "cell_type": "markdown",
      "source": [
        "21. Train a Bagging Classifier using Decision Trees on a sample dataset and print model accuracy."
      ],
      "metadata": {
        "id": "2Je_0EVBQkO2"
      }
    },
    {
      "cell_type": "code",
      "source": [
        "from sklearn.ensemble import BaggingRegressor\n",
        "from sklearn.tree import DecisionTreeRegressor\n",
        "from sklearn.datasets import make_regression\n",
        "from sklearn.model_selection import train_test_split\n",
        "from sklearn.metrics import mean_absolute_error\n",
        "\n",
        "# Generate a synthetic regression dataset\n",
        "X, y = make_regression(n_samples=300, n_features=5, noise=10, random_state=42)\n",
        "X_train, X_test, y_train, y_test = train_test_split(X, y, test_size=0.2, random_state=42)\n",
        "\n",
        "# Train a BaggingRegressor using DecisionTreeRegressors as base estimators\n",
        "bag_reg = BaggingRegressor(estimator=DecisionTreeRegressor(),\n",
        "                           n_estimators=10,\n",
        "                           random_state=42)\n",
        "bag_reg.fit(X_train, y_train)\n",
        "\n",
        "# Predict and compute Mean Absolute Error\n",
        "y_pred = bag_reg.predict(X_test)\n",
        "mae = mean_absolute_error(y_test, y_pred)\n",
        "print(f\"Mean Absolute Error: {mae:.2f}\")\n"
      ],
      "metadata": {
        "colab": {
          "base_uri": "https://localhost:8080/"
        },
        "id": "bhXZvvoGDLnE",
        "outputId": "9d062fa7-e86c-49c8-c1cf-eb59888859da"
      },
      "execution_count": 5,
      "outputs": [
        {
          "output_type": "stream",
          "name": "stdout",
          "text": [
            "Mean Absolute Error: 21.99\n"
          ]
        }
      ]
    },
    {
      "cell_type": "markdown",
      "source": [
        "22. Train a Bagging Regressor using Decision Trees and evaluate using Mean Squared Error (MSE)."
      ],
      "metadata": {
        "id": "wM6h2hfiDMBx"
      }
    },
    {
      "cell_type": "code",
      "source": [
        "\n",
        "from sklearn.tree import DecisionTreeClassifier\n",
        "from sklearn.ensemble import RandomForestClassifier\n",
        "from sklearn.datasets import load_iris\n",
        "from sklearn.model_selection import train_test_split\n",
        "from sklearn.metrics import accuracy_score\n",
        "\n",
        "# Load Iris dataset and split into train/test sets.\n",
        "X, y = load_iris(return_X_y=True)\n",
        "X_train, X_test, y_train, y_test = train_test_split(X, y, test_size=0.2, random_state=42)\n",
        "\n",
        "# Single model training using Decision Tree\n",
        "dt = DecisionTreeClassifier(random_state=42)\n",
        "dt.fit(X_train, y_train)\n",
        "y_pred_dt = dt.predict(X_test)\n",
        "acc_dt = accuracy_score(y_test, y_pred_dt)\n",
        "\n",
        "# Multiple model training using Random Forest (ensemble of trees)\n",
        "rf = RandomForestClassifier(n_estimators=10, random_state=42)\n",
        "rf.fit(X_train, y_train)\n",
        "y_pred_rf = rf.predict(X_test)\n",
        "acc_rf = accuracy_score(y_test, y_pred_rf)\n",
        "\n",
        "print(f\"Decision Tree Accuracy: {acc_dt:.2f}\")\n",
        "print(f\"Random Forest Accuracy: {acc_rf:.2f}\")\n"
      ],
      "metadata": {
        "colab": {
          "base_uri": "https://localhost:8080/"
        },
        "id": "VtBcc0VWDW57",
        "outputId": "8e719ef3-5dbb-4b97-c00b-83b6c57ccb9a"
      },
      "execution_count": 2,
      "outputs": [
        {
          "output_type": "stream",
          "name": "stdout",
          "text": [
            "Decision Tree Accuracy: 1.00\n",
            "Random Forest Accuracy: 1.00\n"
          ]
        }
      ]
    },
    {
      "cell_type": "markdown",
      "source": [
        "23. Train a Random Forest Classifier on the Breast Cancer dataset and print feature importance scores."
      ],
      "metadata": {
        "id": "vsWQSN6CDXXr"
      }
    },
    {
      "cell_type": "code",
      "source": [
        "\n",
        "from sklearn.ensemble import RandomForestClassifier\n",
        "from sklearn.datasets import load_wine\n",
        "import pandas as pd\n",
        "\n",
        "# Load Wine dataset\n",
        "X, y = load_wine(return_X_y=True)\n",
        "\n",
        "# Train a Random Forest\n",
        "rf = RandomForestClassifier(n_estimators=10, random_state=42)\n",
        "rf.fit(X, y)\n",
        "\n",
        "# Retrieve and display feature importances.\n",
        "feature_importances = rf.feature_importances_\n",
        "features = [f\"Feature {i}\" for i in range(X.shape[1])]\n",
        "importance_df = pd.DataFrame({'Feature': features, 'Importance': feature_importances})\n",
        "importance_df = importance_df.sort_values(by='Importance', ascending=False)\n",
        "print(importance_df)\n"
      ],
      "metadata": {
        "colab": {
          "base_uri": "https://localhost:8080/"
        },
        "id": "sSr9HkWaDcBM",
        "outputId": "ac3aea7f-617d-4764-9555-682b6286c787"
      },
      "execution_count": 1,
      "outputs": [
        {
          "output_type": "stream",
          "name": "stdout",
          "text": [
            "       Feature  Importance\n",
            "6    Feature 6    0.350438\n",
            "0    Feature 0    0.173790\n",
            "12  Feature 12    0.110384\n",
            "9    Feature 9    0.108094\n",
            "11  Feature 11    0.107969\n",
            "4    Feature 4    0.043374\n",
            "8    Feature 8    0.030846\n",
            "1    Feature 1    0.028194\n",
            "3    Feature 3    0.013923\n",
            "5    Feature 5    0.012801\n",
            "10  Feature 10    0.010271\n",
            "2    Feature 2    0.007858\n",
            "7    Feature 7    0.002058\n"
          ]
        }
      ]
    },
    {
      "cell_type": "markdown",
      "source": [
        "24. Train a Random Forest Regressor and compare its performance with a single Decision Tree."
      ],
      "metadata": {
        "id": "Ho3pucMmDcsb"
      }
    },
    {
      "cell_type": "code",
      "source": [
        "from sklearn.ensemble import RandomForestClassifier\n",
        "from sklearn.datasets import load_breast_cancer\n",
        "\n",
        "# Load dataset\n",
        "X, y = load_breast_cancer(return_X_y=True)\n",
        "\n",
        "# Train Random Forest with oob_score enabled\n",
        "rf = RandomForestClassifier(n_estimators=100, oob_score=True, random_state=42)\n",
        "rf.fit(X, y)\n",
        "\n",
        "print(f\"OOB Score: {rf.oob_score_:.2f}\")\n"
      ],
      "metadata": {
        "colab": {
          "base_uri": "https://localhost:8080/"
        },
        "id": "n-JzjHjXDm3e",
        "outputId": "eceacfe3-99f1-45e2-f3e4-77a85e19ea92"
      },
      "execution_count": 6,
      "outputs": [
        {
          "output_type": "stream",
          "name": "stdout",
          "text": [
            "OOB Score: 0.96\n"
          ]
        }
      ]
    },
    {
      "cell_type": "markdown",
      "source": [
        "25. Compute the Out-of-Bag (OOB) Score for a Random Forest Classifier."
      ],
      "metadata": {
        "id": "berzIOutDnST"
      }
    },
    {
      "cell_type": "code",
      "source": [
        "from sklearn.ensemble import RandomForestClassifier\n",
        "from sklearn.datasets import load_breast_cancer\n",
        "import pandas as pd\n",
        "\n",
        "# Load dataset\n",
        "X, y = load_breast_cancer(return_X_y=True)\n",
        "rf = RandomForestClassifier(n_estimators=100, random_state=42)\n",
        "rf.fit(X, y)\n",
        "\n",
        "# Measure feature importance\n",
        "importances = rf.feature_importances_\n",
        "features = [f\"Feature {i}\" for i in range(X.shape[1])]\n",
        "importance_df = pd.DataFrame({'Feature': features, 'Importance': importances})\n",
        "importance_df = importance_df.sort_values(by='Importance', ascending=False)\n",
        "print(importance_df)\n"
      ],
      "metadata": {
        "colab": {
          "base_uri": "https://localhost:8080/"
        },
        "id": "1_5CUbIxDrMN",
        "outputId": "372b7a7c-c69d-4148-dd7c-937701781969"
      },
      "execution_count": 7,
      "outputs": [
        {
          "output_type": "stream",
          "name": "stdout",
          "text": [
            "       Feature  Importance\n",
            "23  Feature 23    0.139357\n",
            "27  Feature 27    0.132225\n",
            "7    Feature 7    0.107046\n",
            "20  Feature 20    0.082848\n",
            "22  Feature 22    0.080850\n",
            "2    Feature 2    0.067990\n",
            "6    Feature 6    0.066917\n",
            "3    Feature 3    0.060462\n",
            "26  Feature 26    0.037339\n",
            "0    Feature 0    0.034843\n",
            "13  Feature 13    0.029553\n",
            "25  Feature 25    0.019864\n",
            "21  Feature 21    0.017485\n",
            "1    Feature 1    0.015225\n",
            "10  Feature 10    0.014264\n",
            "24  Feature 24    0.012232\n",
            "5    Feature 5    0.011597\n",
            "12  Feature 12    0.010085\n",
            "28  Feature 28    0.008179\n",
            "4    Feature 4    0.007958\n",
            "19  Feature 19    0.005942\n",
            "16  Feature 16    0.005820\n",
            "15  Feature 15    0.005612\n",
            "14  Feature 14    0.004722\n",
            "29  Feature 29    0.004497\n",
            "17  Feature 17    0.003760\n",
            "11  Feature 11    0.003744\n",
            "18  Feature 18    0.003546\n",
            "8    Feature 8    0.003423\n",
            "9    Feature 9    0.002615\n"
          ]
        }
      ]
    },
    {
      "cell_type": "markdown",
      "source": [
        "26. Train a Bagging Classifier using SVM as a base estimator and print accuracy."
      ],
      "metadata": {
        "id": "l9-TVwWXDrm6"
      }
    },
    {
      "cell_type": "code",
      "source": [
        "from sklearn.ensemble import BaggingClassifier\n",
        "from sklearn.tree import DecisionTreeClassifier\n",
        "from sklearn.datasets import load_iris\n",
        "from sklearn.model_selection import train_test_split\n",
        "from sklearn.metrics import accuracy_score\n",
        "\n",
        "# Load Iris dataset\n",
        "X, y = load_iris(return_X_y=True)\n",
        "X_train, X_test, y_train, y_test = train_test_split(X, y, test_size=0.2, random_state=42)\n",
        "\n",
        "# Initialize Bagging Classifier with Decision Trees as base estimator\n",
        "bag_clf = BaggingClassifier(estimator=DecisionTreeClassifier(),\n",
        "                            n_estimators=10,\n",
        "                            random_state=42)\n",
        "bag_clf.fit(X_train, y_train)\n",
        "y_pred = bag_clf.predict(X_test)\n",
        "acc = accuracy_score(y_test, y_pred)\n",
        "print(f\"Bagging Classifier Accuracy: {acc:.2f}\")\n"
      ],
      "metadata": {
        "colab": {
          "base_uri": "https://localhost:8080/"
        },
        "id": "0x99MX-hDu-X",
        "outputId": "cbafc874-2998-4817-e688-ee192a454168"
      },
      "execution_count": 10,
      "outputs": [
        {
          "output_type": "stream",
          "name": "stdout",
          "text": [
            "Bagging Classifier Accuracy: 1.00\n"
          ]
        }
      ]
    },
    {
      "cell_type": "markdown",
      "source": [
        "27. Train a Random Forest Classifier with different numbers of trees and compare accuracy."
      ],
      "metadata": {
        "id": "pNJ00WHYDvpc"
      }
    },
    {
      "cell_type": "code",
      "source": [
        "from sklearn.ensemble import BaggingClassifier\n",
        "from sklearn.tree import DecisionTreeClassifier\n",
        "from sklearn.datasets import load_iris\n",
        "from sklearn.metrics import classification_report\n",
        "from sklearn.model_selection import train_test_split\n",
        "\n",
        "# Load dataset and split\n",
        "X, y = load_iris(return_X_y=True)\n",
        "X_train, X_test, y_train, y_test = train_test_split(X, y, test_size=0.2, random_state=42)\n",
        "\n",
        "# Train Bagging Classifier\n",
        "bag_clf = BaggingClassifier(estimator=DecisionTreeClassifier(),\n",
        "                            n_estimators=10,\n",
        "                            random_state=42)\n",
        "bag_clf.fit(X_train, y_train)\n",
        "y_pred = bag_clf.predict(X_test)\n",
        "\n",
        "# Evaluation\n",
        "report = classification_report(y_test, y_pred)\n",
        "print(\"Classification Report:\\n\", report)\n"
      ],
      "metadata": {
        "colab": {
          "base_uri": "https://localhost:8080/"
        },
        "id": "5vyohHraDzKC",
        "outputId": "e020f500-afb0-42fe-b220-4b53dec4d8cf"
      },
      "execution_count": 12,
      "outputs": [
        {
          "output_type": "stream",
          "name": "stdout",
          "text": [
            "Classification Report:\n",
            "               precision    recall  f1-score   support\n",
            "\n",
            "           0       1.00      1.00      1.00        10\n",
            "           1       1.00      1.00      1.00         9\n",
            "           2       1.00      1.00      1.00        11\n",
            "\n",
            "    accuracy                           1.00        30\n",
            "   macro avg       1.00      1.00      1.00        30\n",
            "weighted avg       1.00      1.00      1.00        30\n",
            "\n"
          ]
        }
      ]
    },
    {
      "cell_type": "markdown",
      "source": [
        "28.  Train a Bagging Classifier using Logistic Regression as a base estimator and print AUC score."
      ],
      "metadata": {
        "id": "RwHzJzd4Dzjq"
      }
    },
    {
      "cell_type": "code",
      "source": [
        "from sklearn.ensemble import BaggingRegressor\n",
        "from sklearn.tree import DecisionTreeRegressor\n",
        "from sklearn.datasets import make_regression\n",
        "from sklearn.metrics import mean_squared_error\n",
        "from sklearn.model_selection import train_test_split\n",
        "\n",
        "# Generate synthetic regression data\n",
        "X, y = make_regression(n_samples=300, n_features=5, noise=10, random_state=42)\n",
        "X_train, X_test, y_train, y_test = train_test_split(X, y, test_size=0.2, random_state=42)\n",
        "\n",
        "# Train Bagging Regressor\n",
        "bag_reg = BaggingRegressor(estimator=DecisionTreeRegressor(), n_estimators=10, random_state=42)\n",
        "bag_reg.fit(X_train, y_train)\n",
        "\n",
        "# Evaluate model performance\n",
        "y_pred = bag_reg.predict(X_test)\n",
        "mse = mean_squared_error(y_test, y_pred)\n",
        "print(f\"Mean Squared Error: {mse:.2f}\")\n"
      ],
      "metadata": {
        "colab": {
          "base_uri": "https://localhost:8080/"
        },
        "id": "rjeSOLowD2U3",
        "outputId": "e956621a-2309-4acc-d96a-ba86c2897a63"
      },
      "execution_count": 14,
      "outputs": [
        {
          "output_type": "stream",
          "name": "stdout",
          "text": [
            "Mean Squared Error: 871.72\n"
          ]
        }
      ]
    },
    {
      "cell_type": "markdown",
      "source": [
        "29. Train a Random Forest Regressor and analyze feature importance scores."
      ],
      "metadata": {
        "id": "uec30wsiD2s-"
      }
    },
    {
      "cell_type": "code",
      "source": [
        "from sklearn.tree import DecisionTreeClassifier\n",
        "from sklearn.ensemble import RandomForestClassifier\n",
        "from sklearn.datasets import load_wine\n",
        "from sklearn.model_selection import train_test_split\n",
        "from sklearn.metrics import accuracy_score\n",
        "\n",
        "# Load Wine dataset and split\n",
        "X, y = load_wine(return_X_y=True)\n",
        "X_train, X_test, y_train, y_test = train_test_split(X, y, test_size=0.2, random_state=42)\n",
        "\n",
        "# Single model: Decision Tree\n",
        "dt = DecisionTreeClassifier(random_state=42)\n",
        "dt.fit(X_train, y_train)\n",
        "acc_dt = accuracy_score(y_test, dt.predict(X_test))\n",
        "\n",
        "# Ensemble: Random Forest\n",
        "rf = RandomForestClassifier(n_estimators=50, random_state=42)\n",
        "rf.fit(X_train, y_train)\n",
        "acc_rf = accuracy_score(y_test, rf.predict(X_test))\n",
        "\n",
        "print(f\"Decision Tree Accuracy: {acc_dt:.2f}\")\n",
        "print(f\"Random Forest Accuracy: {acc_rf:.2f}\")\n"
      ],
      "metadata": {
        "colab": {
          "base_uri": "https://localhost:8080/"
        },
        "id": "GKWmWPlqD5T2",
        "outputId": "1df24247-da67-4344-9587-7eef6291efb6"
      },
      "execution_count": 15,
      "outputs": [
        {
          "output_type": "stream",
          "name": "stdout",
          "text": [
            "Decision Tree Accuracy: 0.94\n",
            "Random Forest Accuracy: 1.00\n"
          ]
        }
      ]
    },
    {
      "cell_type": "markdown",
      "source": [
        "30. Train an ensemble model using both Bagging and Random Forest and compare accuracy."
      ],
      "metadata": {
        "id": "WqTCdiwFD5se"
      }
    },
    {
      "cell_type": "code",
      "source": [
        "import time\n",
        "from sklearn.tree import DecisionTreeClassifier\n",
        "from sklearn.ensemble import RandomForestClassifier\n",
        "from sklearn.datasets import load_iris\n",
        "from sklearn.model_selection import train_test_split\n",
        "\n",
        "# Load dataset\n",
        "X, y = load_iris(return_X_y=True)\n",
        "X_train, X_test, y_train, _ = train_test_split(X, y, test_size=0.2, random_state=42)\n",
        "\n",
        "# Time a single Decision Tree\n",
        "start = time.time()\n",
        "dt = DecisionTreeClassifier(random_state=42)\n",
        "dt.fit(X_train, y_train)\n",
        "tree_time = time.time() - start\n",
        "\n",
        "# Time a Random Forest (ensemble)\n",
        "start = time.time()\n",
        "rf = RandomForestClassifier(n_estimators=50, random_state=42)\n",
        "rf.fit(X_train, y_train)\n",
        "forest_time = time.time() - start\n",
        "\n",
        "print(f\"Decision Tree training time: {tree_time:.4f} seconds\")\n",
        "print(f\"Random Forest training time: {forest_time:.4f} seconds\")\n"
      ],
      "metadata": {
        "colab": {
          "base_uri": "https://localhost:8080/"
        },
        "id": "HoS-tgXzD6mQ",
        "outputId": "0cf26768-9981-4acc-c056-8c8544ad5771"
      },
      "execution_count": 16,
      "outputs": [
        {
          "output_type": "stream",
          "name": "stdout",
          "text": [
            "Decision Tree training time: 0.0027 seconds\n",
            "Random Forest training time: 0.0761 seconds\n"
          ]
        }
      ]
    },
    {
      "cell_type": "markdown",
      "source": [
        "31. Train a Random Forest Classifier and tune hyperparameters using GridSearchCV."
      ],
      "metadata": {
        "id": "inCWnnuEOm0M"
      }
    },
    {
      "cell_type": "code",
      "source": [
        "from sklearn.ensemble import RandomForestClassifier\n",
        "from sklearn.datasets import load_iris\n",
        "from sklearn.model_selection import train_test_split, GridSearchCV\n",
        "\n",
        "# Load dataset\n",
        "X, y = load_iris(return_X_y=True)\n",
        "X_train, X_test, y_train, y_test = train_test_split(X, y, test_size=0.2, random_state=42)\n",
        "\n",
        "# Define parameter grid\n",
        "param_grid = {\n",
        "    \"n_estimators\": [10, 50, 100],  # Number of trees\n",
        "    \"max_depth\": [None, 5, 10],  # Maximum depth of trees\n",
        "    \"min_samples_split\": [2, 5, 10]  # Minimum number of samples required to split\n",
        "}\n",
        "\n",
        "# Initialize Random Forest and GridSearchCV\n",
        "rf = RandomForestClassifier(random_state=42)\n",
        "grid_search = GridSearchCV(rf, param_grid, cv=5, scoring=\"accuracy\")\n",
        "grid_search.fit(X_train, y_train)\n",
        "\n",
        "# Display best parameters\n",
        "print(\"Best Parameters:\", grid_search.best_params_)\n",
        "print(\"Best Accuracy:\", grid_search.best_score_)\n"
      ],
      "metadata": {
        "colab": {
          "base_uri": "https://localhost:8080/"
        },
        "id": "1wughY_8ljML",
        "outputId": "59bd40f4-c63a-468a-a172-9e34ed15733f"
      },
      "execution_count": 1,
      "outputs": [
        {
          "output_type": "stream",
          "name": "stdout",
          "text": [
            "Best Parameters: {'max_depth': None, 'min_samples_split': 2, 'n_estimators': 10}\n",
            "Best Accuracy: 0.95\n"
          ]
        }
      ]
    },
    {
      "cell_type": "markdown",
      "source": [
        "32. Train a Bagging Regressor with different numbers of base estimators and compare performance.\n"
      ],
      "metadata": {
        "id": "W8P4MVdnljpq"
      }
    },
    {
      "cell_type": "code",
      "source": [
        "from sklearn.ensemble import BaggingClassifier\n",
        "from sklearn.tree import DecisionTreeClassifier\n",
        "from sklearn.datasets import load_iris\n",
        "from sklearn.model_selection import train_test_split\n",
        "from sklearn.metrics import accuracy_score\n",
        "\n",
        "# Load dataset\n",
        "X, y = load_iris(return_X_y=True)\n",
        "X_train, X_test, y_train, y_test = train_test_split(X, y, test_size=0.2, random_state=42)\n",
        "\n",
        "# Train Bagging Classifier using Decision Trees\n",
        "bagging_clf = BaggingClassifier(\n",
        "    estimator=DecisionTreeClassifier(),  # Updated for latest scikit-learn\n",
        "    n_estimators=10,\n",
        "    random_state=42\n",
        ")\n",
        "bagging_clf.fit(X_train, y_train)\n",
        "\n",
        "# Predict and compute accuracy\n",
        "y_pred = bagging_clf.predict(X_test)\n",
        "accuracy = accuracy_score(y_test, y_pred)\n",
        "print(f\"Bagging Classifier Accuracy: {accuracy:.2f}\")\n"
      ],
      "metadata": {
        "colab": {
          "base_uri": "https://localhost:8080/"
        },
        "id": "K9TVfFCrlm3i",
        "outputId": "e24ed6fd-6158-4a8d-8ea0-b1548918b101"
      },
      "execution_count": 3,
      "outputs": [
        {
          "output_type": "stream",
          "name": "stdout",
          "text": [
            "Bagging Classifier Accuracy: 1.00\n"
          ]
        }
      ]
    },
    {
      "cell_type": "markdown",
      "source": [
        "33. Train a Random Forest Classifier and analyze misclassified samples."
      ],
      "metadata": {
        "id": "4olE4Kdalnih"
      }
    },
    {
      "cell_type": "code",
      "source": [
        "from sklearn.ensemble import RandomForestClassifier\n",
        "from sklearn.datasets import load_breast_cancer\n",
        "import pandas as pd\n",
        "\n",
        "# Load dataset\n",
        "X, y = load_breast_cancer(return_X_y=True)\n",
        "\n",
        "# Train Random Forest Classifier\n",
        "rf = RandomForestClassifier(n_estimators=100, random_state=42)\n",
        "rf.fit(X, y)\n",
        "\n",
        "# Retrieve feature importances\n",
        "importances = rf.feature_importances_\n",
        "features = [f\"Feature {i}\" for i in range(X.shape[1])]\n",
        "\n",
        "# Display feature importances\n",
        "importance_df = pd.DataFrame({'Feature': features, 'Importance': importances})\n",
        "importance_df = importance_df.sort_values(by='Importance', ascending=False)\n",
        "print(importance_df)\n"
      ],
      "metadata": {
        "colab": {
          "base_uri": "https://localhost:8080/"
        },
        "id": "0boe9tzc2Ugu",
        "outputId": "497481d1-c40b-4a00-f661-c549f77add36"
      },
      "execution_count": 4,
      "outputs": [
        {
          "output_type": "stream",
          "name": "stdout",
          "text": [
            "       Feature  Importance\n",
            "23  Feature 23    0.139357\n",
            "27  Feature 27    0.132225\n",
            "7    Feature 7    0.107046\n",
            "20  Feature 20    0.082848\n",
            "22  Feature 22    0.080850\n",
            "2    Feature 2    0.067990\n",
            "6    Feature 6    0.066917\n",
            "3    Feature 3    0.060462\n",
            "26  Feature 26    0.037339\n",
            "0    Feature 0    0.034843\n",
            "13  Feature 13    0.029553\n",
            "25  Feature 25    0.019864\n",
            "21  Feature 21    0.017485\n",
            "1    Feature 1    0.015225\n",
            "10  Feature 10    0.014264\n",
            "24  Feature 24    0.012232\n",
            "5    Feature 5    0.011597\n",
            "12  Feature 12    0.010085\n",
            "28  Feature 28    0.008179\n",
            "4    Feature 4    0.007958\n",
            "19  Feature 19    0.005942\n",
            "16  Feature 16    0.005820\n",
            "15  Feature 15    0.005612\n",
            "14  Feature 14    0.004722\n",
            "29  Feature 29    0.004497\n",
            "17  Feature 17    0.003760\n",
            "11  Feature 11    0.003744\n",
            "18  Feature 18    0.003546\n",
            "8    Feature 8    0.003423\n",
            "9    Feature 9    0.002615\n"
          ]
        }
      ]
    },
    {
      "cell_type": "markdown",
      "source": [
        "34.  Train a Bagging Classifier and compare its performance with a single Decision Tree Classifier."
      ],
      "metadata": {
        "id": "hCOHkoy-2X-d"
      }
    },
    {
      "cell_type": "code",
      "source": [
        "from sklearn.ensemble import BaggingRegressor\n",
        "from sklearn.tree import DecisionTreeRegressor\n",
        "from sklearn.datasets import make_regression\n",
        "from sklearn.metrics import mean_squared_error\n",
        "from sklearn.model_selection import train_test_split\n",
        "\n",
        "# Generate synthetic regression dataset\n",
        "X, y = make_regression(n_samples=300, n_features=5, noise=10, random_state=42)\n",
        "X_train, X_test, y_train, y_test = train_test_split(X, y, test_size=0.2, random_state=42)\n",
        "\n",
        "# Train Bagging Regressor using Decision Trees\n",
        "bag_reg = BaggingRegressor(estimator=DecisionTreeRegressor(), n_estimators=10, random_state=42)\n",
        "bag_reg.fit(X_train, y_train)\n",
        "\n",
        "# Predict and compute Mean Squared Error (MSE)\n",
        "y_pred = bag_reg.predict(X_test)\n",
        "mse = mean_squared_error(y_test, y_pred)\n",
        "print(f\"Mean Squared Error: {mse:.2f}\")\n"
      ],
      "metadata": {
        "colab": {
          "base_uri": "https://localhost:8080/"
        },
        "id": "IXAl2lvd2by8",
        "outputId": "70be7073-6659-4bef-ec76-2aa0a77a4a9f"
      },
      "execution_count": 7,
      "outputs": [
        {
          "output_type": "stream",
          "name": "stdout",
          "text": [
            "Mean Squared Error: 871.72\n"
          ]
        }
      ]
    },
    {
      "cell_type": "markdown",
      "source": [
        "35. Train a Random Forest Classifier and visualize the confusion matrix."
      ],
      "metadata": {
        "id": "qaHiYZxW2cOv"
      }
    },
    {
      "cell_type": "code",
      "source": [
        "from sklearn.ensemble import RandomForestClassifier\n",
        "from sklearn.datasets import load_iris\n",
        "from sklearn.model_selection import train_test_split\n",
        "from sklearn.metrics import confusion_matrix\n",
        "import seaborn as sns\n",
        "import matplotlib.pyplot as plt\n",
        "\n",
        "# Load dataset\n",
        "X, y = load_iris(return_X_y=True)\n",
        "X_train, X_test, y_train, y_test = train_test_split(X, y, test_size=0.2, random_state=42)\n",
        "\n",
        "# Train Random Forest\n",
        "rf = RandomForestClassifier(n_estimators=100, random_state=42)\n",
        "rf.fit(X_train, y_train)\n",
        "\n",
        "# Predict and compute Confusion Matrix\n",
        "y_pred = rf.predict(X_test)\n",
        "cm = confusion_matrix(y_test, y_pred)\n",
        "\n",
        "# Plot confusion matrix\n",
        "sns.heatmap(cm, annot=True, fmt='d', cmap=\"Blues\")\n",
        "plt.xlabel(\"Predicted Labels\")\n",
        "plt.ylabel(\"True Labels\")\n",
        "plt.title(\"Confusion Matrix of Random Forest Classifier\")\n",
        "plt.show()\n"
      ],
      "metadata": {
        "colab": {
          "base_uri": "https://localhost:8080/",
          "height": 472
        },
        "id": "ZTZCevz12hRN",
        "outputId": "9fd1db42-0082-4c01-abca-6857993e706b"
      },
      "execution_count": 8,
      "outputs": [
        {
          "output_type": "display_data",
          "data": {
            "text/plain": [
              "<Figure size 640x480 with 2 Axes>"
            ],
            "image/png": "[encoded data removed]"
          },
          "metadata": {}
        }
      ]
    },
    {
      "cell_type": "markdown",
      "source": [
        "36. Train a Stacking Classifier using Decision Trees, SVM, and Logistic Regression, and compare accuracy."
      ],
      "metadata": {
        "id": "hrIV6tuM2hs1"
      }
    },
    {
      "cell_type": "code",
      "source": [
        "from sklearn.ensemble import StackingClassifier\n",
        "from sklearn.tree import DecisionTreeClassifier\n",
        "from sklearn.svm import SVC\n",
        "from sklearn.linear_model import LogisticRegression\n",
        "from sklearn.datasets import load_iris\n",
        "from sklearn.model_selection import train_test_split\n",
        "from sklearn.metrics import accuracy_score\n",
        "\n",
        "# Load dataset\n",
        "X, y = load_iris(return_X_y=True)\n",
        "X_train, X_test, y_train, y_test = train_test_split(X, y, test_size=0.2, random_state=42)\n",
        "\n",
        "# Define base models\n",
        "estimators = [\n",
        "    ('dt', DecisionTreeClassifier()),\n",
        "    ('svm', SVC(probability=True))\n",
        "]\n",
        "\n",
        "# Define stacking ensemble with Logistic Regression as final estimator\n",
        "stacking_clf = StackingClassifier(estimators=estimators, final_estimator=LogisticRegression())\n",
        "stacking_clf.fit(X_train, y_train)\n",
        "\n",
        "# Compute accuracy\n",
        "accuracy = accuracy_score(y_test, stacking_clf.predict(X_test))\n",
        "print(f\"Stacking Classifier Accuracy: {accuracy:.2f}\")\n"
      ],
      "metadata": {
        "colab": {
          "base_uri": "https://localhost:8080/"
        },
        "id": "hfEeCVRC2lmJ",
        "outputId": "3d0e6bef-81fd-4764-f9a8-3b50c6e54c36"
      },
      "execution_count": 9,
      "outputs": [
        {
          "output_type": "stream",
          "name": "stdout",
          "text": [
            "Stacking Classifier Accuracy: 1.00\n"
          ]
        }
      ]
    },
    {
      "cell_type": "markdown",
      "source": [
        "37. Train a Random Forest Classifier and print the top 5 most important features."
      ],
      "metadata": {
        "id": "VwByvQVH2nwI"
      }
    },
    {
      "cell_type": "code",
      "source": [
        "from sklearn.ensemble import RandomForestClassifier\n",
        "from sklearn.datasets import load_breast_cancer\n",
        "import pandas as pd\n",
        "\n",
        "# Load dataset\n",
        "data = load_breast_cancer()\n",
        "X, y = data.data, data.target\n",
        "\n",
        "# Train Random Forest\n",
        "rf = RandomForestClassifier(n_estimators=100, random_state=42)\n",
        "rf.fit(X, y)\n",
        "\n",
        "# Get top 5 important features\n",
        "importances = rf.feature_importances_\n",
        "feature_names = data.feature_names\n",
        "importance_df = pd.DataFrame({'Feature': feature_names, 'Importance': importances})\n",
        "importance_df = importance_df.sort_values(by='Importance', ascending=False)\n",
        "\n",
        "print(\"Top 5 Features:\")\n",
        "print(importance_df.head(5))\n"
      ],
      "metadata": {
        "colab": {
          "base_uri": "https://localhost:8080/"
        },
        "id": "GhIFxnnP2rOi",
        "outputId": "3d24a76d-3583-4d27-a6a2-3ba5e64852ff"
      },
      "execution_count": 10,
      "outputs": [
        {
          "output_type": "stream",
          "name": "stdout",
          "text": [
            "Top 5 Features:\n",
            "                 Feature  Importance\n",
            "23            worst area    0.139357\n",
            "27  worst concave points    0.132225\n",
            "7    mean concave points    0.107046\n",
            "20          worst radius    0.082848\n",
            "22       worst perimeter    0.080850\n"
          ]
        }
      ]
    },
    {
      "cell_type": "markdown",
      "source": [
        "38. Train a Bagging Classifier and evaluate performance using Precision, Recall, and F1-score."
      ],
      "metadata": {
        "id": "OGTxNhdI2rkM"
      }
    },
    {
      "cell_type": "code",
      "source": [
        "from sklearn.ensemble import BaggingClassifier\n",
        "from sklearn.tree import DecisionTreeClassifier\n",
        "from sklearn.datasets import load_iris\n",
        "from sklearn.model_selection import train_test_split\n",
        "from sklearn.metrics import classification_report\n",
        "\n",
        "# Load dataset\n",
        "X, y = load_iris(return_X_y=True)\n",
        "X_train, X_test, y_train, y_test = train_test_split(X, y, test_size=0.2, random_state=42)\n",
        "\n",
        "# Train Bagging Classifier\n",
        "bagging_clf = BaggingClassifier(estimator=DecisionTreeClassifier(), n_estimators=10, random_state=42)\n",
        "bagging_clf.fit(X_train, y_train)\n",
        "\n",
        "# Predict and evaluate\n",
        "y_pred = bagging_clf.predict(X_test)\n",
        "report = classification_report(y_test, y_pred)\n",
        "print(\"Classification Report:\\n\", report)\n"
      ],
      "metadata": {
        "colab": {
          "base_uri": "https://localhost:8080/"
        },
        "id": "T96o6Q-m2wZH",
        "outputId": "d9b1bc33-3f72-416f-c490-e2b5ffe6c9e3"
      },
      "execution_count": 12,
      "outputs": [
        {
          "output_type": "stream",
          "name": "stdout",
          "text": [
            "Classification Report:\n",
            "               precision    recall  f1-score   support\n",
            "\n",
            "           0       1.00      1.00      1.00        10\n",
            "           1       1.00      1.00      1.00         9\n",
            "           2       1.00      1.00      1.00        11\n",
            "\n",
            "    accuracy                           1.00        30\n",
            "   macro avg       1.00      1.00      1.00        30\n",
            "weighted avg       1.00      1.00      1.00        30\n",
            "\n"
          ]
        }
      ]
    },
    {
      "cell_type": "markdown",
      "source": [
        "39. Train a Random Forest Classifier and analyze the effect of max_depth on accuracy."
      ],
      "metadata": {
        "id": "EotJHKwJ2w2D"
      }
    },
    {
      "cell_type": "code",
      "source": [
        "from sklearn.ensemble import RandomForestClassifier\n",
        "from sklearn.datasets import load_iris\n",
        "from sklearn.model_selection import train_test_split\n",
        "from sklearn.metrics import accuracy_score\n",
        "\n",
        "# Load dataset\n",
        "X, y = load_iris(return_X_y=True)\n",
        "X_train, X_test, y_train, y_test = train_test_split(X, y, test_size=0.2, random_state=42)\n",
        "\n",
        "# Compare models with different max depths\n",
        "for depth in [None, 5, 10]:\n",
        "    rf = RandomForestClassifier(n_estimators=50, max_depth=depth, random_state=42)\n",
        "    rf.fit(X_train, y_train)\n",
        "    acc = accuracy_score(y_test, rf.predict(X_test))\n",
        "    print(f\"Random Forest (Max Depth {depth}) Accuracy: {acc:.2f}\")\n"
      ],
      "metadata": {
        "colab": {
          "base_uri": "https://localhost:8080/"
        },
        "id": "-m_61Cdt21Hv",
        "outputId": "38a5059b-c97d-4e45-86a3-7ba42de57389"
      },
      "execution_count": 13,
      "outputs": [
        {
          "output_type": "stream",
          "name": "stdout",
          "text": [
            "Random Forest (Max Depth None) Accuracy: 1.00\n",
            "Random Forest (Max Depth 5) Accuracy: 1.00\n",
            "Random Forest (Max Depth 10) Accuracy: 1.00\n"
          ]
        }
      ]
    },
    {
      "cell_type": "markdown",
      "source": [
        "40. Train a Bagging Regressor using different base estimators (DecisionTree and KNeighbors) and compare performance."
      ],
      "metadata": {
        "id": "hrv9LIpg22Tw"
      }
    },
    {
      "cell_type": "code",
      "source": [
        "from sklearn.ensemble import BaggingRegressor\n",
        "from sklearn.tree import DecisionTreeRegressor\n",
        "from sklearn.neighbors import KNeighborsRegressor\n",
        "from sklearn.datasets import make_regression\n",
        "from sklearn.metrics import mean_squared_error\n",
        "from sklearn.model_selection import train_test_split\n",
        "\n",
        "# Generate synthetic regression data\n",
        "X, y = make_regression(n_samples=300, n_features=5, noise=10, random_state=42)\n",
        "X_train, X_test, y_train, y_test = train_test_split(X, y, test_size=0.2, random_state=42)\n",
        "\n",
        "# Test different base estimators\n",
        "for estimator in [DecisionTreeRegressor(), KNeighborsRegressor()]:\n",
        "    bagging_reg = BaggingRegressor(estimator=estimator, n_estimators=10, random_state=42)\n",
        "    bagging_reg.fit(X_train, y_train)\n",
        "    y_pred = bagging_reg.predict(X_test)\n",
        "    mse = mean_squared_error(y_test, y_pred)\n",
        "    print(f\"Bagging Regressor with {estimator.__class__.__name__} MSE: {mse:.2f}\")\n"
      ],
      "metadata": {
        "colab": {
          "base_uri": "https://localhost:8080/"
        },
        "id": "hdDANTTq29RL",
        "outputId": "b4ba02bb-eac5-44e5-e7b9-1ce79ca18957"
      },
      "execution_count": 15,
      "outputs": [
        {
          "output_type": "stream",
          "name": "stdout",
          "text": [
            "Bagging Regressor with DecisionTreeRegressor MSE: 871.72\n",
            "Bagging Regressor with KNeighborsRegressor MSE: 1171.21\n"
          ]
        }
      ]
    },
    {
      "cell_type": "markdown",
      "source": [
        "41. Train a Random Forest Classifier and evaluate its performance using ROC-AUC Score."
      ],
      "metadata": {
        "id": "IxgnS8aF29oG"
      }
    },
    {
      "cell_type": "code",
      "source": [
        "from sklearn.ensemble import RandomForestClassifier\n",
        "from sklearn.datasets import load_breast_cancer\n",
        "from sklearn.model_selection import train_test_split\n",
        "from sklearn.metrics import roc_auc_score\n",
        "\n",
        "# Load dataset\n",
        "X, y = load_breast_cancer(return_X_y=True)\n",
        "X_train, X_test, y_train, y_test = train_test_split(X, y, test_size=0.2, random_state=42)\n",
        "\n",
        "# Train Random Forest Classifier\n",
        "rf = RandomForestClassifier(n_estimators=100, random_state=42)\n",
        "rf.fit(X_train, y_train)\n",
        "\n",
        "# Predict probabilities and compute AUC score\n",
        "y_pred_proba = rf.predict_proba(X_test)[:, 1]\n",
        "auc_score = roc_auc_score(y_test, y_pred_proba)\n",
        "print(f\"Random Forest ROC-AUC Score: {auc_score:.2f}\")\n"
      ],
      "metadata": {
        "colab": {
          "base_uri": "https://localhost:8080/"
        },
        "id": "lfdXvHkP3Di7",
        "outputId": "54a1256f-dec9-4cc7-d44b-71d0a6af59a1"
      },
      "execution_count": 16,
      "outputs": [
        {
          "output_type": "stream",
          "name": "stdout",
          "text": [
            "Random Forest ROC-AUC Score: 1.00\n"
          ]
        }
      ]
    },
    {
      "cell_type": "markdown",
      "source": [
        "42. Train a Bagging Classifier and evaluate its performance using cross-validatio."
      ],
      "metadata": {
        "id": "WM8kc8Dn3ECR"
      }
    },
    {
      "cell_type": "code",
      "source": [
        "from sklearn.ensemble import BaggingClassifier\n",
        "from sklearn.tree import DecisionTreeClassifier\n",
        "from sklearn.datasets import load_iris\n",
        "from sklearn.model_selection import cross_val_score\n",
        "\n",
        "# Load dataset\n",
        "X, y = load_iris(return_X_y=True)\n",
        "\n",
        "# Train Bagging Classifier\n",
        "bagging_clf = BaggingClassifier(estimator=DecisionTreeClassifier(), n_estimators=10, random_state=42)\n",
        "\n",
        "# Compute cross-validation scores\n",
        "cv_scores = cross_val_score(bagging_clf, X, y, cv=5, scoring='accuracy')\n",
        "print(\"Cross-validation scores:\", cv_scores)\n",
        "print(f\"Mean Accuracy: {cv_scores.mean():.2f}\")\n"
      ],
      "metadata": {
        "colab": {
          "base_uri": "https://localhost:8080/"
        },
        "id": "Y87M3soG3G4F",
        "outputId": "8a47fedb-9069-41fc-adfc-060614b63f0d"
      },
      "execution_count": 18,
      "outputs": [
        {
          "output_type": "stream",
          "name": "stdout",
          "text": [
            "Cross-validation scores: [0.96666667 0.96666667 0.9        0.93333333 1.        ]\n",
            "Mean Accuracy: 0.95\n"
          ]
        }
      ]
    },
    {
      "cell_type": "markdown",
      "source": [
        "43. Train a Random Forest Classifier and plot the Precision-Recall curv."
      ],
      "metadata": {
        "id": "QTzUr46o3Hkr"
      }
    },
    {
      "cell_type": "code",
      "source": [
        "import matplotlib.pyplot as plt\n",
        "from sklearn.ensemble import RandomForestClassifier\n",
        "from sklearn.datasets import load_breast_cancer\n",
        "from sklearn.model_selection import train_test_split\n",
        "from sklearn.metrics import precision_recall_curve\n",
        "\n",
        "# Load dataset\n",
        "X, y = load_breast_cancer(return_X_y=True)\n",
        "X_train, X_test, y_train, y_test = train_test_split(X, y, test_size=0.2, random_state=42)\n",
        "\n",
        "# Train Random Forest Classifier\n",
        "rf = RandomForestClassifier(n_estimators=100, random_state=42)\n",
        "rf.fit(X_train, y_train)\n",
        "\n",
        "# Predict probabilities\n",
        "y_pred_proba = rf.predict_proba(X_test)[:, 1]\n",
        "\n",
        "# Compute Precision-Recall curve\n",
        "precision, recall, _ = precision_recall_curve(y_test, y_pred_proba)\n",
        "\n",
        "# Plot Precision-Recall curve\n",
        "plt.plot(recall, precision, marker='.')\n",
        "plt.xlabel('Recall')\n",
        "plt.ylabel('Precision')\n",
        "plt.title('Precision-Recall Curve for Random Forest')\n",
        "plt.show()\n"
      ],
      "metadata": {
        "colab": {
          "base_uri": "https://localhost:8080/",
          "height": 472
        },
        "id": "KVeS6dGg3LCH",
        "outputId": "d65fc291-4c7d-432f-98be-d9e4446f1f9d"
      },
      "execution_count": 19,
      "outputs": [
        {
          "output_type": "display_data",
          "data": {
            "text/plain": [
              "<Figure size 640x480 with 1 Axes>"
            ],
            "image/png": "[encoded data removed]"
          },
          "metadata": {}
        }
      ]
    },
    {
      "cell_type": "markdown",
      "source": [
        "44. Train a Stacking Classifier with Random Forest and Logistic Regression and compare accuracy."
      ],
      "metadata": {
        "id": "w_YHIV8w3LdD"
      }
    },
    {
      "cell_type": "code",
      "source": [
        "from sklearn.ensemble import StackingClassifier\n",
        "from sklearn.ensemble import RandomForestClassifier\n",
        "from sklearn.linear_model import LogisticRegression\n",
        "from sklearn.datasets import load_iris\n",
        "from sklearn.model_selection import train_test_split\n",
        "from sklearn.metrics import accuracy_score\n",
        "\n",
        "# Load dataset\n",
        "X, y = load_iris(return_X_y=True)\n",
        "X_train, X_test, y_train, y_test = train_test_split(X, y, test_size=0.2, random_state=42)\n",
        "\n",
        "# Define stacking ensemble\n",
        "stacking_clf = StackingClassifier(estimators=[\n",
        "    ('rf', RandomForestClassifier(n_estimators=10, random_state=42))\n",
        "], final_estimator=LogisticRegression())\n",
        "\n",
        "stacking_clf.fit(X_train, y_train)\n",
        "\n",
        "# Compute accuracy\n",
        "accuracy = accuracy_score(y_test, stacking_clf.predict(X_test))\n",
        "print(f\"Stacking Classifier Accuracy: {accuracy:.2f}\")\n"
      ],
      "metadata": {
        "colab": {
          "base_uri": "https://localhost:8080/"
        },
        "id": "frZMaAf-3OQQ",
        "outputId": "3aebe57f-2ce6-4a68-b1b8-883a5510e358"
      },
      "execution_count": 20,
      "outputs": [
        {
          "output_type": "stream",
          "name": "stdout",
          "text": [
            "Stacking Classifier Accuracy: 1.00\n"
          ]
        }
      ]
    },
    {
      "cell_type": "markdown",
      "source": [
        "45. Train a Bagging Regressor with different levels of bootstrap samples and compare performance."
      ],
      "metadata": {
        "id": "8-Uw2KhA3Opt"
      }
    },
    {
      "cell_type": "code",
      "source": [
        "from sklearn.ensemble import BaggingRegressor\n",
        "from sklearn.tree import DecisionTreeRegressor\n",
        "from sklearn.datasets import make_regression\n",
        "from sklearn.metrics import mean_squared_error\n",
        "from sklearn.model_selection import train_test_split\n",
        "\n",
        "# Generate synthetic regression data\n",
        "X, y = make_regression(n_samples=300, n_features=5, noise=10, random_state=42)\n",
        "X_train, X_test, y_train, y_test = train_test_split(X, y, test_size=0.2, random_state=42)\n",
        "\n",
        "# Compare different bootstrap sample sizes\n",
        "for max_samples in [0.5, 0.8, 1.0]:\n",
        "    bag_reg = BaggingRegressor(estimator=DecisionTreeRegressor(), n_estimators=10, max_samples=max_samples, random_state=42)\n",
        "    bag_reg.fit(X_train, y_train)\n",
        "    y_pred = bag_reg.predict(X_test)\n",
        "    mse = mean_squared_error(y_test, y_pred)\n",
        "    print(f\"Bagging Regressor (max_samples={max_samples}) MSE: {mse:.2f}\")\n"
      ],
      "metadata": {
        "colab": {
          "base_uri": "https://localhost:8080/"
        },
        "id": "1n_Fw8pC3QSp",
        "outputId": "32ced56a-75ca-4ced-c9fc-5103b3aba564"
      },
      "execution_count": 22,
      "outputs": [
        {
          "output_type": "stream",
          "name": "stdout",
          "text": [
            "Bagging Regressor (max_samples=0.5) MSE: 1154.52\n",
            "Bagging Regressor (max_samples=0.8) MSE: 936.86\n",
            "Bagging Regressor (max_samples=1.0) MSE: 871.72\n"
          ]
        }
      ]
    }
  ]
}